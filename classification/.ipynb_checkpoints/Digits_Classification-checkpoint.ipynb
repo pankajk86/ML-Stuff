{
 "cells": [
  {
   "cell_type": "code",
   "execution_count": 367,
   "metadata": {},
   "outputs": [],
   "source": [
    "from sklearn.datasets import load_digits\n",
    "import matplotlib.pyplot as plt\n",
    "import numpy as np\n",
    "import warnings\n",
    "warnings.filterwarnings(\"ignore\", category=RuntimeWarning)"
   ]
  },
  {
   "cell_type": "markdown",
   "metadata": {},
   "source": [
    "### load data"
   ]
  },
  {
   "cell_type": "code",
   "execution_count": 451,
   "metadata": {},
   "outputs": [
    {
     "name": "stdout",
     "output_type": "stream",
     "text": [
      "[0 1 2 3 4 5 6 7 8 9]\n",
      "[ 0.  1.  2.  3.  4.  5.  6.  7.  8.  9. 10. 11. 12. 13. 14. 15. 16.]\n",
      "X: (1797, 64), y: (1797, 1)\n"
     ]
    }
   ],
   "source": [
    "digits = load_digits()\n",
    "print(np.unique(digits.target))\n",
    "data = digits.data\n",
    "print(np.unique(data))\n",
    "target = digits.target.reshape(data.shape[0], 1)\n",
    "print(f'X: {data.shape}, y: {target.shape}')\n",
    "\n",
    "# scale the feature value(digits.data) between 0 to 1 instead of 0 to 16\n",
    "data = data / 16\n",
    "target = target"
   ]
  },
  {
   "cell_type": "markdown",
   "metadata": {},
   "source": [
    "### analyze data"
   ]
  },
  {
   "cell_type": "code",
   "execution_count": 452,
   "metadata": {},
   "outputs": [],
   "source": [
    "\"\"\"\n",
    "This method takes parameter values from 0 to 1796\n",
    "\"\"\"\n",
    "def print_details(sample_id):\n",
    "    x = data[sample_id].reshape(8, 8)\n",
    "    y = target[sample_id]\n",
    "    print(f'X: {x}, y: {y}')\n",
    "    plt.gray()\n",
    "    plt.matshow(x)\n",
    "    plt.show()"
   ]
  },
  {
   "cell_type": "code",
   "execution_count": 453,
   "metadata": {},
   "outputs": [
    {
     "name": "stdout",
     "output_type": "stream",
     "text": [
      "X: [[0.     0.     0.3125 0.8125 0.5625 0.0625 0.     0.    ]\n",
      " [0.     0.     0.8125 0.9375 0.625  0.9375 0.3125 0.    ]\n",
      " [0.     0.1875 0.9375 0.125  0.     0.6875 0.5    0.    ]\n",
      " [0.     0.25   0.75   0.     0.     0.5    0.5    0.    ]\n",
      " [0.     0.3125 0.5    0.     0.     0.5625 0.5    0.    ]\n",
      " [0.     0.25   0.6875 0.     0.0625 0.75   0.4375 0.    ]\n",
      " [0.     0.125  0.875  0.3125 0.625  0.75   0.     0.    ]\n",
      " [0.     0.     0.375  0.8125 0.625  0.     0.     0.    ]], y: [0]\n"
     ]
    },
    {
     "data": {
      "text/plain": [
       "<Figure size 432x288 with 0 Axes>"
      ]
     },
     "metadata": {},
     "output_type": "display_data"
    },
    {
     "data": {
      "image/png": "[encoded data removed]",
      "text/plain": [
       "<Figure size 288x288 with 1 Axes>"
      ]
     },
     "metadata": {
      "needs_background": "light"
     },
     "output_type": "display_data"
    }
   ],
   "source": [
    "# print details of any sample out of 1797 samples\n",
    "print_details(0)"
   ]
  },
  {
   "cell_type": "markdown",
   "metadata": {},
   "source": [
    "### activation functions"
   ]
  },
  {
   "cell_type": "code",
   "execution_count": 371,
   "metadata": {},
   "outputs": [],
   "source": [
    "\"\"\"The following activation functions are used in forward propagation.\"\"\"\n",
    "def sigmoid(Z):\n",
    "    return 1 / (1 + np.exp(-Z))\n",
    "\n",
    "def relu(Z):\n",
    "    return np.maximum(0, Z)\n",
    "\n",
    "def softmax(Z):\n",
    "    return np.exp(Z)/sum(np.exp(Z))\n",
    "\n",
    "\"\"\"The following derivatives for activation functions are used back propagation.\"\"\"\n",
    "def sigmoid_back(dA, Z):\n",
    "    S = sigmoid(Z)\n",
    "    dS = S * (1 - S)\n",
    "    dZ = dA * dS     # chain rule\n",
    "    return dZ\n",
    "\n",
    "def relu_back(dA, Z):\n",
    "    dZ = np.array(dA, copy=True)\n",
    "    dZ[Z <= 0] = 0\n",
    "    return dZ\n",
    "\n",
    "def softmax_back(dA, Z):\n",
    "    # need to implement\n",
    "    return None"
   ]
  },
  {
   "cell_type": "markdown",
   "metadata": {},
   "source": [
    "### initialize weights and bias"
   ]
  },
  {
   "cell_type": "code",
   "execution_count": 372,
   "metadata": {},
   "outputs": [],
   "source": [
    "\"\"\"\n",
    "This method takes a list of numbers. The format of the list is as follows:\n",
    "[n_x, n_h1, n_h2, ..., n_o]\n",
    "where \n",
    "n_x = number of features in the input\n",
    "n_h1, n_h2, ... = number of nodes in first, second, etc. hidden layers\n",
    "n_o = number of output nodes.\n",
    "\n",
    "For example:\n",
    "If layers = [4, 6, 3, 1], then it has:\n",
    "number of features in the input = 4\n",
    "number of nodes in the first hidden layer = 6\n",
    "number of nodes in the second hidden layer = 3\n",
    "number of nodes in the output layer = 1\n",
    "\"\"\"\n",
    "def initialize_parameters(layers):\n",
    "    L = len(layers)\n",
    "    W = []\n",
    "    b = []\n",
    "\n",
    "    for l in range(0, L - 1):\n",
    "        w_l = np.random.randn(layers[l + 1], layers[l]) * 0.01\n",
    "        b_l = np.zeros((layers[l + 1], 1))\n",
    "        W.append(w_l)\n",
    "        b.append(b_l) \n",
    "\n",
    "    return W, b"
   ]
  },
  {
   "cell_type": "code",
   "execution_count": 420,
   "metadata": {},
   "outputs": [
    {
     "name": "stdout",
     "output_type": "stream",
     "text": [
      "layer 0: W: (12, 64), b: (12, 1)\n",
      "layer 1: W: (8, 12), b: (8, 1)\n",
      "layer 2: W: (10, 8), b: (10, 1)\n"
     ]
    }
   ],
   "source": [
    "layers = [64, 12, 8, 10]\n",
    "W, b = initialize_parameters(layers)\n",
    "\n",
    "for l in range(len(layers) - 1):\n",
    "    print(f'layer {l}: W: {W[l].shape}, b: {b[l].shape}')"
   ]
  },
  {
   "cell_type": "markdown",
   "metadata": {},
   "source": [
    "### forward propagation"
   ]
  },
  {
   "cell_type": "code",
   "execution_count": 421,
   "metadata": {},
   "outputs": [],
   "source": [
    "def forward_prop(layers, W, X, b):\n",
    "    \"\"\"\n",
    "    We use a cache to store necessary intermediate metrics for each layers.\n",
    "    In this cache, for each layer, we store the corresponding input (AL - 1), weight(WL),\n",
    "    bias(bL) and linear_forward(zL).\n",
    "    \n",
    "    We store this intermediate metrics, because we will need these for evaulating derivates\n",
    "    during back-propagation.\n",
    "    \"\"\"\n",
    "    caches = []\n",
    "    for l in range(layers):\n",
    "        if l == 0:\n",
    "            input = X\n",
    "        else:\n",
    "            input = a\n",
    "        z = np.dot(W[l], input) + b[l]\n",
    "        if l < layers - 1:\n",
    "            a = relu(z)\n",
    "        else:\n",
    "            a = sigmoid(z)\n",
    "        \"\"\"\n",
    "        Here we are creating a cache for the current layer\n",
    "        and appending to the caches.\n",
    "        \"\"\"\n",
    "        cache = (input, W[l], b[l], z)\n",
    "        caches.append(cache)\n",
    "    return a, caches"
   ]
  },
  {
   "cell_type": "code",
   "execution_count": 425,
   "metadata": {},
   "outputs": [
    {
     "name": "stdout",
     "output_type": "stream",
     "text": [
      "X: (64, 1797), Y: (1, 1797)\n",
      "Output: (10, 1797), cache length: 3\n",
      "==================\n",
      "layer 0: input: (64, 1797), w: (12, 64), b: (12, 1), z: (12, 1797)\n",
      "layer 1: input: (12, 1797), w: (8, 12), b: (8, 1), z: (8, 1797)\n",
      "layer 2: input: (8, 1797), w: (10, 8), b: (10, 1), z: (10, 1797)\n"
     ]
    }
   ],
   "source": [
    "# X = data[0].reshape(data[0].shape[0], 1)\n",
    "# y = target[0].reshape(target[0].shape[0], 1)\n",
    "\n",
    "\"\"\"\n",
    "Dimension of input(X) and y(output) should be as follows:\n",
    "X:= (features, samples). i.e. if input has 1000 samples with 64 features in each sample,\n",
    "X should be arranged in (64, 1000) matrix. If input is provided in (1000, 64), \n",
    "then transpose it.\n",
    "\n",
    "Y:= (1, samples). Similar to X, each output should be stacked column-wise.\n",
    "\"\"\"\n",
    "X = data.T\n",
    "Y = target.T\n",
    "print(f'X: {X.shape}, Y: {Y.shape}')\n",
    "\n",
    "AL, caches = forward_prop(3, W, X, b)\n",
    "print(f'Output: {AL.shape}, cache length: {len(caches)}')\n",
    "print('==================')\n",
    "for layer in range(3):\n",
    "    il, wl, bl, zl = caches[layer]\n",
    "    print(f'layer {layer}: input: {il.shape}, w: {wl.shape}, b: {bl.shape}, z: {zl.shape}')"
   ]
  },
  {
   "cell_type": "markdown",
   "metadata": {},
   "source": [
    "### cost function"
   ]
  },
  {
   "cell_type": "code",
   "execution_count": 444,
   "metadata": {},
   "outputs": [],
   "source": [
    "def compute_cost(AL, Y):\n",
    "    m = AL.shape[1]\n",
    "    print(f'AL: {AL.shape}, Y: {Y.shape}')\n",
    "    print(AL[0])\n",
    "    print(Y)\n",
    "    return (-1 / m) * (np.dot(Y, np.log(AL.T)) + (np.dot(1 - Y, np.log(1 - AL.T))))"
   ]
  },
  {
   "cell_type": "code",
   "execution_count": 445,
   "metadata": {},
   "outputs": [
    {
     "name": "stdout",
     "output_type": "stream",
     "text": [
      "AL: (10, 1797), Y: (1, 1797)\n",
      "[0.50000135 0.50000087 0.50000213 ... 0.50000219 0.5000037  0.50000467]\n",
      "[[0 1 2 ... 8 9 8]]\n"
     ]
    },
    {
     "data": {
      "text/plain": [
       "array([[0.69311601, 0.6931165 , 0.69316309, 0.69312004, 0.69313411,\n",
       "        0.69315075, 0.69313214, 0.69309861, 0.69315759, 0.69313986]])"
      ]
     },
     "execution_count": 445,
     "metadata": {},
     "output_type": "execute_result"
    }
   ],
   "source": [
    "cost = compute_cost(AL, Y)\n",
    "cost"
   ]
  },
  {
   "cell_type": "markdown",
   "metadata": {},
   "source": [
    "### back propagation"
   ]
  },
  {
   "cell_type": "code",
   "execution_count": 408,
   "metadata": {},
   "outputs": [],
   "source": [
    "def linear_back(A_prev, W, b, dZ):\n",
    "    m = A_prev.shape[1]\n",
    "    \n",
    "    dW = (1 / m) * np.dot(dZ, A_prev.T)\n",
    "    db = (1 / m) * np.sum(dZ, axis = 1, keepdims = True)\n",
    "    dA_prev = np.dot(W.T, dZ)\n",
    "    \n",
    "    return dA_prev, dW, db"
   ]
  },
  {
   "cell_type": "code",
   "execution_count": 409,
   "metadata": {},
   "outputs": [],
   "source": [
    "def back_prop(AL, Y, caches):\n",
    "    L = len(caches)  # number of layers\n",
    "    m = AL.shape[1]\n",
    "    dAL = - (np.divide(Y, AL) - np.divide(1 - Y, 1 - AL))\n",
    "    grads = []\n",
    "\n",
    "    for l in reversed(range(L)):\n",
    "        A_prev, W, b, Z = caches[l]\n",
    "        if l == L-1:\n",
    "            dZ = sigmoid_back(dAL, Z)\n",
    "        else:\n",
    "            dZ = relu_back(dA_prev, Z)\n",
    "\n",
    "        dA_prev, dW, db = linear_back(A_prev, W, b, dZ)\n",
    "        grad = (dA_prev, dW, db)\n",
    "        \"\"\"\n",
    "        Because we are moving backward, we would need to store the gradient descent (GD)\n",
    "        for each layers properly. That is, even if we moving from L->L-1->...->1,\n",
    "        the grads (list containing GDs) in 1->...->L-1->L order.\n",
    "        (This approach will help us, while updating the weight(W) and bias(b) parameters\n",
    "        for next iteration.)\n",
    "        \n",
    "        Therefore, instead of append, I have used insert(0, grad) below.\n",
    "        \"\"\"\n",
    "        #grads.append(grad)\n",
    "        grads.insert(0, grad)\n",
    "    return grads"
   ]
  },
  {
   "cell_type": "code",
   "execution_count": 410,
   "metadata": {},
   "outputs": [
    {
     "name": "stdout",
     "output_type": "stream",
     "text": [
      "layer 0: dA_prev: (64, 1797), dW: (12, 64), db: (12, 1)\n",
      "layer 1: dA_prev: (12, 1797), dW: (8, 12), db: (8, 1)\n",
      "layer 2: dA_prev: (8, 1797), dW: (10, 8), db: (10, 1)\n"
     ]
    }
   ],
   "source": [
    "grads = back_prop(AL, Y, caches)\n",
    "L = len(grads)\n",
    "for l in range(L):\n",
    "    dA_prev, dW, db = grads[l]\n",
    "    print(f'layer {l}: dA_prev: {dA_prev.shape}, dW: {dW.shape}, db: {db.shape}')"
   ]
  },
  {
   "cell_type": "markdown",
   "metadata": {},
   "source": [
    "### update parameters"
   ]
  },
  {
   "cell_type": "code",
   "execution_count": 411,
   "metadata": {},
   "outputs": [],
   "source": [
    "def update_parameters(W, b, grads, learning_rate):\n",
    "    L = len(grads)\n",
    "    for l in range(L):\n",
    "        dA_prev, dW, db = grads[l]\n",
    "        W[l] = W[l] - learning_rate * dW\n",
    "        b[l] = b[l] - learning_rate * db\n",
    "    return W, b"
   ]
  },
  {
   "cell_type": "code",
   "execution_count": 412,
   "metadata": {},
   "outputs": [
    {
     "name": "stdout",
     "output_type": "stream",
     "text": [
      "W: (12, 64), b: (12, 1)\n",
      "W: (8, 12), b: (8, 1)\n",
      "W: (10, 8), b: (10, 1)\n"
     ]
    }
   ],
   "source": [
    "W, b = update_parameters(W, b, grads, 0.1)\n",
    "for l in range(len(grads)):\n",
    "    print(f'W: {W[l].shape}, b: {b[l].shape}')"
   ]
  },
  {
   "cell_type": "markdown",
   "metadata": {},
   "source": [
    "### bringing everything together"
   ]
  },
  {
   "cell_type": "code",
   "execution_count": 413,
   "metadata": {},
   "outputs": [],
   "source": [
    "def L_layer_model(X, Y, layers, learning_rate = 0.0075, num_iterations = 3000):\n",
    "    costs = []\n",
    "    L = len(layers) - 1\n",
    "    W, b = initialize_parameters(layers)\n",
    "    \n",
    "    for i in range(num_iterations):\n",
    "        # forward propagation\n",
    "        AL, caches = forward_prop(L, W, X, b)\n",
    "        # compute cost\n",
    "        cost = compute_cost(AL, Y)\n",
    "        # backward propagation\n",
    "        grads = back_prop(AL, Y, caches)\n",
    "        # update parameters\n",
    "        W, b = update_parameters(W, b, grads, learning_rate)\n",
    "        \n",
    "        if i % 100 == 0:\n",
    "            print(f'Cost after iteration {i}: {cost}')\n",
    "            costs.append(cost)\n",
    "        \n",
    "    plt.plot(np.squeeze(costs))\n",
    "    plt.ylabel('cost')\n",
    "    plt.xlabel('iterations (per tens)')\n",
    "    plt.title('Learning Rate: ' + str(learning_rate))\n",
    "    plt.show()\n",
    "    \n",
    "    return W, b"
   ]
  },
  {
   "cell_type": "code",
   "execution_count": 414,
   "metadata": {},
   "outputs": [
    {
     "name": "stdout",
     "output_type": "stream",
     "text": [
      "Cost after iteration 0: [[0.6930826]]\n",
      "Cost after iteration 100: [[-9.7832438]]\n",
      "Cost after iteration 200: [[nan]]\n",
      "Cost after iteration 300: [[nan]]\n",
      "Cost after iteration 400: [[nan]]\n",
      "Cost after iteration 500: [[nan]]\n",
      "Cost after iteration 600: [[nan]]\n",
      "Cost after iteration 700: [[nan]]\n",
      "Cost after iteration 800: [[nan]]\n",
      "Cost after iteration 900: [[nan]]\n",
      "Cost after iteration 1000: [[nan]]\n",
      "Cost after iteration 1100: [[nan]]\n",
      "Cost after iteration 1200: [[nan]]\n",
      "Cost after iteration 1300: [[nan]]\n",
      "Cost after iteration 1400: [[nan]]\n",
      "Cost after iteration 1500: [[nan]]\n",
      "Cost after iteration 1600: [[nan]]\n",
      "Cost after iteration 1700: [[nan]]\n",
      "Cost after iteration 1800: [[nan]]\n",
      "Cost after iteration 1900: [[nan]]\n",
      "Cost after iteration 2000: [[nan]]\n",
      "Cost after iteration 2100: [[nan]]\n",
      "Cost after iteration 2200: [[nan]]\n",
      "Cost after iteration 2300: [[nan]]\n",
      "Cost after iteration 2400: [[nan]]\n",
      "Cost after iteration 2500: [[nan]]\n",
      "Cost after iteration 2600: [[nan]]\n",
      "Cost after iteration 2700: [[nan]]\n",
      "Cost after iteration 2800: [[nan]]\n",
      "Cost after iteration 2900: [[nan]]\n"
     ]
    },
    {
     "data": {
      "image/png": "[encoded data removed]",
      "text/plain": [
       "<Figure size 432x288 with 1 Axes>"
      ]
     },
     "metadata": {
      "needs_background": "light"
     },
     "output_type": "display_data"
    }
   ],
   "source": [
    "layers = [64, 12, 8, 1]\n",
    "W, b = L_layer_model(X, Y, layers)"
   ]
  },
  {
   "cell_type": "code",
   "execution_count": null,
   "metadata": {},
   "outputs": [],
   "source": []
  }
 ],
 "metadata": {
  "kernelspec": {
   "display_name": "Python 3",
   "language": "python",
   "name": "python3"
  },
  "language_info": {
   "codemirror_mode": {
    "name": "ipython",
    "version": 3
   },
   "file_extension": ".py",
   "mimetype": "text/x-python",
   "name": "python",
   "nbconvert_exporter": "python",
   "pygments_lexer": "ipython3",
   "version": "3.7.6"
  }
 },
 "nbformat": 4,
 "nbformat_minor": 4
}
