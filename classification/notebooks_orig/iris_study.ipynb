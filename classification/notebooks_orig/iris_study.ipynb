{
 "cells": [
  {
   "cell_type": "code",
   "execution_count": 13,
   "metadata": {
    "collapsed": true
   },
   "outputs": [],
   "source": [
    "import warnings\n",
    "\n",
    "import matplotlib.pyplot as plt\n",
    "import numpy as np\n",
    "import pandas as pd\n",
    "from sklearn.datasets import load_iris\n",
    "from sklearn.exceptions import ConvergenceWarning\n",
    "from sklearn.linear_model import LogisticRegression\n",
    "from sklearn.model_selection import train_test_split, GridSearchCV\n",
    "from sklearn.pipeline import Pipeline, make_pipeline\n",
    "from sklearn.preprocessing import PolynomialFeatures\n",
    "\n",
    "from util.eval_model import eval_metrics\n",
    "\n",
    "%matplotlib inline\n",
    "\n",
    "warnings.filterwarnings(\"ignore\", category=ConvergenceWarning)"
   ]
  },
  {
   "cell_type": "code",
   "execution_count": 19,
   "metadata": {},
   "outputs": [],
   "source": [
    "iris = load_iris()\n",
    "X = pd.DataFrame(data=iris.data, columns=iris.feature_names)\n",
    "y = pd.DataFrame(data=iris.target, columns=['CLASS'])\n",
    "\n",
    "X_train, X_test, y_train, y_test = train_test_split(X, y, test_size=0.33, random_state=42)"
   ]
  },
  {
   "cell_type": "code",
   "execution_count": 23,
   "metadata": {},
   "outputs": [
    {
     "name": "stdout",
     "output_type": "stream",
     "text": [
      "0.96\n{'poly__degree': 2, 'regr__C': 1, 'regr__penalty': 'l2', 'regr__solver': 'sag'}\n0.98\n"
     ]
    }
   ],
   "source": [
    "pipeline = Pipeline(\n",
    "    [\n",
    "        ('poly', PolynomialFeatures()),\n",
    "        ('regr', LogisticRegression())\n",
    "    ]\n",
    ")\n",
    "\n",
    "parameters = [\n",
    "    {\n",
    "        'poly__degree': [2, 3],\n",
    "        'regr__C': np.arange(1, 10),\n",
    "        'regr__penalty': ['l2'],\n",
    "        'regr__solver': ['newton-cg', 'lbfgs', 'sag']\n",
    "    },\n",
    "    {\n",
    "        'poly__degree': [2, 3],\n",
    "        'regr__C': np.arange(1, 10),\n",
    "        'regr__penalty': ['l1'],\n",
    "        'regr__solver': ['liblinear', 'saga']\n",
    "    }\n",
    "]\n",
    "\n",
    "grid = GridSearchCV(pipeline, param_grid=parameters, cv=10, n_jobs=-1)\n",
    "grid.fit(X_train, y_train.values.ravel())\n",
    "y_predict = grid.predict(X_test)\n",
    "\n",
    "test_score = grid.score(X_test, y_test)\n",
    "\n",
    "print(grid.best_score_)\n",
    "print(grid.best_params_)\n",
    "print(test_score)\n"
   ]
  },
  {
   "cell_type": "code",
   "execution_count": 26,
   "metadata": {},
   "outputs": [
    {
     "name": "stdout",
     "output_type": "stream",
     "text": [
      "Test1 score (L1, sag):\t0.98\nTest2 score (L1, saga):\t0.98\n"
     ]
    }
   ],
   "source": [
    "test1 = make_pipeline(PolynomialFeatures(degree=2), LogisticRegression(penalty='l2', solver='sag', C=1))\n",
    "test1.fit(X_train, y_train.values.ravel())\n",
    "print(f'Test1 score (L1, sag):\\t{test1.score(X_test, y_test.values.ravel())}')\n",
    "\n",
    "test2 = make_pipeline(PolynomialFeatures(degree=2), LogisticRegression(penalty='l1', solver='saga', C=1))\n",
    "test2.fit(X_train, y_train.values.ravel())\n",
    "print(f'Test2 score (L1, saga):\\t{test2.score(X_test, y_test.values.ravel())}')"
   ]
  },
  {
   "cell_type": "code",
   "execution_count": null,
   "metadata": {},
   "outputs": [],
   "source": []
  }
 ],
 "metadata": {
  "kernelspec": {
   "display_name": "Python 2",
   "language": "python",
   "name": "python2"
  },
  "language_info": {
   "codemirror_mode": {
    "name": "ipython",
    "version": 2
   },
   "file_extension": ".py",
   "mimetype": "text/x-python",
   "name": "python",
   "nbconvert_exporter": "python",
   "pygments_lexer": "ipython2",
   "version": "2.7.6"
  }
 },
 "nbformat": 4,
 "nbformat_minor": 0
}
