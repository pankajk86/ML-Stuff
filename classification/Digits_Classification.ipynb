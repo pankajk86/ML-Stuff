{
 "cells": [
  {
   "cell_type": "code",
   "execution_count": 640,
   "metadata": {},
   "outputs": [],
   "source": [
    "from sklearn.datasets import load_digits\n",
    "from sklearn.model_selection import train_test_split\n",
    "import matplotlib.pyplot as plt\n",
    "import numpy as np\n",
    "import warnings\n",
    "warnings.filterwarnings(\"ignore\", category=RuntimeWarning)"
   ]
  },
  {
   "cell_type": "markdown",
   "metadata": {},
   "source": [
    "### load and prepare data"
   ]
  },
  {
   "cell_type": "code",
   "execution_count": 730,
   "metadata": {},
   "outputs": [
    {
     "name": "stdout",
     "output_type": "stream",
     "text": [
      "[0 1 2 3 4 5 6 7 8 9]\n",
      "[ 0.  1.  2.  3.  4.  5.  6.  7.  8.  9. 10. 11. 12. 13. 14. 15. 16.]\n",
      "Before Transpose: X: (1617, 64), y: (1617, 1)\n",
      "After Transpose: X: (64, 1617), y: (1, 1617)\n",
      "X_train: (64, 1617), Y_train: (10, 1617)\n",
      "X_test: (64, 180), Y_test: (10, 180)\n"
     ]
    }
   ],
   "source": [
    "digits = load_digits()\n",
    "print(np.unique(digits.target))\n",
    "data = digits.data\n",
    "print(np.unique(data))\n",
    "target = digits.target.reshape(data.shape[0], 1)\n",
    "\n",
    "# scale the feature value(digits.data) between 0 to 1 instead of 0 to 16\n",
    "data = data / 16\n",
    "\n",
    "# create training & test data set\n",
    "X_train, X_test, Y_train, Y_test = train_test_split(data, target, \n",
    "                                                    test_size = 0.1, random_state = 0)\n",
    "\n",
    "\"\"\"\n",
    "Dimension of input(X) and y(output) should be as follows:\n",
    "X:= (features, samples). i.e. if input has 1000 samples with 64 features in each sample,\n",
    "X should be arranged in (64, 1000) matrix. If input is provided in (1000, 64), \n",
    "then transpose it.\n",
    "\n",
    "Y:= (1, samples). Similar to X, each output should be stacked column-wise.\n",
    "\"\"\"\n",
    "print(f'Before Transpose: X: {X_train.shape}, y: {Y_train.shape}')\n",
    "X_train = X_train.T\n",
    "Y_train = Y_train.T\n",
    "X_test = X_test.T\n",
    "Y_test = Y_test.T\n",
    "\n",
    "print(f'After Transpose: X: {X_train.shape}, y: {Y_train.shape}')\n",
    "\n",
    "\"\"\"\n",
    "Currently, Y_train and Y_test are of (1, train_sample_size) and (1, test_sample_size).\n",
    "However, we know that it takes a value from 0 to 9. Therefore, we would need to convert\n",
    "these labels (Y's) to (10, train_sample_size) and (10, test_sample_size).\n",
    "\n",
    "Here, each row will for the matrix will contain one 1 and rest 0, with 1 denoting the index\n",
    "for the actual label value.\n",
    "\"\"\"\n",
    "m_train = Y_train.shape[1]\n",
    "Y_train_temp = np.zeros((10, m_train))\n",
    "for i in range(m_train):\n",
    "    Y_train_temp[Y_train[0, i], i] = 1\n",
    "Y_train = Y_train_temp\n",
    "    \n",
    "m_test = Y_test.shape[1]\n",
    "Y_test_temp = np.zeros((10, m_test))\n",
    "for i in range(m_test):\n",
    "    Y_test_temp[Y_test[0, i], i] = 1\n",
    "Y_test = Y_test_temp\n",
    "\n",
    "print(f'X_train: {X_train.shape}, Y_train: {Y_train.shape}')\n",
    "print(f'X_test: {X_test.shape}, Y_test: {Y_test.shape}')\n",
    "    \n",
    "# print(Y[:, 0:5])\n",
    "# print(Y_train[:, 0:5])\n"
   ]
  },
  {
   "cell_type": "code",
   "execution_count": 650,
   "metadata": {},
   "outputs": [],
   "source": [
    "a = np.array([4, 1, 0, 0, 4, 3, 5])\n",
    "aa = np.zeros((10, len(a)))\n",
    "for i in range(len(a)):\n",
    "    aa[a[i], i] = 1"
   ]
  },
  {
   "cell_type": "markdown",
   "metadata": {},
   "source": [
    "### analyze data"
   ]
  },
  {
   "cell_type": "code",
   "execution_count": 651,
   "metadata": {},
   "outputs": [],
   "source": [
    "\"\"\"\n",
    "This method takes parameter values from 0 to 1796\n",
    "\"\"\"\n",
    "def print_details(sample_id):\n",
    "    x = X_train[:, sample_id].reshape(8, 8)\n",
    "    y = Y_train[:, sample_id]\n",
    "    print(f'X: {x},\\n y: {y}')\n",
    "    plt.gray()\n",
    "    plt.matshow(x)\n",
    "    plt.show()"
   ]
  },
  {
   "cell_type": "code",
   "execution_count": 653,
   "metadata": {},
   "outputs": [
    {
     "name": "stdout",
     "output_type": "stream",
     "text": [
      "X: [[0.     0.     0.     0.5625 0.9375 0.125  0.     0.    ]\n",
      " [0.     0.     0.3125 1.     0.6875 0.0625 0.     0.    ]\n",
      " [0.     0.     0.8125 0.9375 0.0625 0.     0.     0.    ]\n",
      " [0.     0.125  1.     0.6875 0.     0.     0.     0.    ]\n",
      " [0.     0.125  1.     0.6875 0.25   0.25   0.     0.    ]\n",
      " [0.     0.125  0.9375 1.     1.     0.875  0.625  0.0625]\n",
      " [0.     0.     0.5625 1.     0.4375 0.1875 0.9375 0.375 ]\n",
      " [0.     0.     0.     0.4375 0.9375 1.     1.     0.375 ]],\n",
      " y: [0. 0. 0. 0. 0. 0. 1. 0. 0. 0.]\n"
     ]
    },
    {
     "data": {
      "text/plain": [
       "<Figure size 432x288 with 0 Axes>"
      ]
     },
     "metadata": {},
     "output_type": "display_data"
    },
    {
     "data": {
      "image/png": "[encoded data removed]",
      "text/plain": [
       "<Figure size 288x288 with 1 Axes>"
      ]
     },
     "metadata": {
      "needs_background": "light"
     },
     "output_type": "display_data"
    }
   ],
   "source": [
    "# print details of any sample out of the available samples\n",
    "print_details(180)"
   ]
  },
  {
   "cell_type": "markdown",
   "metadata": {},
   "source": [
    "### activation functions"
   ]
  },
  {
   "cell_type": "code",
   "execution_count": 654,
   "metadata": {},
   "outputs": [],
   "source": [
    "\"\"\"The following activation functions are used in forward propagation.\"\"\"\n",
    "def sigmoid(Z):\n",
    "    return 1 / (1 + np.exp(-Z))\n",
    "\n",
    "def relu(Z):\n",
    "    return np.maximum(0, Z)\n",
    "\n",
    "def softmax(Z):\n",
    "    return np.exp(Z)/sum(np.exp(Z))\n",
    "\n",
    "\"\"\"The following derivatives for activation functions are used back propagation.\"\"\"\n",
    "def sigmoid_back(dA, Z):\n",
    "    S = sigmoid(Z)\n",
    "    dS = S * (1 - S)\n",
    "    dZ = dA * dS     # chain rule\n",
    "    return dZ\n",
    "\n",
    "def relu_back(dA, Z):\n",
    "    dZ = np.array(dA, copy=True)\n",
    "    dZ[Z <= 0] = 0\n",
    "    return dZ\n",
    "\n",
    "def softmax_back(dA, Z):\n",
    "    # need to implement\n",
    "    return None"
   ]
  },
  {
   "cell_type": "markdown",
   "metadata": {},
   "source": [
    "### initialize weights and bias"
   ]
  },
  {
   "cell_type": "code",
   "execution_count": 659,
   "metadata": {},
   "outputs": [],
   "source": [
    "\"\"\"\n",
    "This method takes a list of numbers. The format of the list is as follows:\n",
    "[n_x, n_h1, n_h2, ..., n_o]\n",
    "where \n",
    "n_x = number of features in the input\n",
    "n_h1, n_h2, ... = number of nodes in first, second, etc. hidden layers\n",
    "n_o = number of output nodes.\n",
    "\n",
    "For example:\n",
    "If layers = [4, 6, 3, 1], then it has:\n",
    "number of features in the input = 4\n",
    "number of nodes in the first hidden layer = 6\n",
    "number of nodes in the second hidden layer = 3\n",
    "number of nodes in the output layer = 1\n",
    "\"\"\"\n",
    "def initialize_parameters(layers):\n",
    "    L = len(layers)\n",
    "    W = []\n",
    "    b = []\n",
    "\n",
    "    for l in range(0, L - 1):\n",
    "        w_l = np.random.randn(layers[l + 1], layers[l]) * 0.01\n",
    "        b_l = np.zeros((layers[l + 1], 1))\n",
    "        W.append(w_l)\n",
    "        b.append(b_l) \n",
    "\n",
    "    return W, b"
   ]
  },
  {
   "cell_type": "code",
   "execution_count": 660,
   "metadata": {},
   "outputs": [
    {
     "name": "stdout",
     "output_type": "stream",
     "text": [
      "layer 0: W: (12, 64), b: (12, 1)\n",
      "layer 1: W: (8, 12), b: (8, 1)\n",
      "layer 2: W: (10, 8), b: (10, 1)\n"
     ]
    }
   ],
   "source": [
    "layers = [64, 12, 8, 10]\n",
    "W, b = initialize_parameters(layers)\n",
    "\n",
    "for l in range(len(layers) - 1):\n",
    "    print(f'layer {l}: W: {W[l].shape}, b: {b[l].shape}')"
   ]
  },
  {
   "cell_type": "markdown",
   "metadata": {},
   "source": [
    "### forward propagation"
   ]
  },
  {
   "cell_type": "code",
   "execution_count": 679,
   "metadata": {},
   "outputs": [],
   "source": [
    "def forward_prop(X, W, b):\n",
    "    \"\"\"\n",
    "    We use a cache to store necessary intermediate metrics for each layers.\n",
    "    In this cache, for each layer, we store the corresponding input (AL - 1), weight(WL),\n",
    "    bias(bL) and linear_forward(zL).\n",
    "    \n",
    "    We store this intermediate metrics, because we will need these for evaulating derivates\n",
    "    during back-propagation.\n",
    "    \"\"\"\n",
    "    caches = []\n",
    "    L = len(W)\n",
    "    for l in range(L):\n",
    "        if l == 0:\n",
    "            input = X\n",
    "        else:\n",
    "            input = a\n",
    "        z = np.dot(W[l], input) + b[l]\n",
    "        if l < L - 1:\n",
    "            a = relu(z)\n",
    "        else:\n",
    "            a = sigmoid(z)\n",
    "        \"\"\"\n",
    "        Here we are creating a cache for the current layer\n",
    "        and appending to the caches.\n",
    "        \"\"\"\n",
    "        cache = (input, W[l], b[l], z)\n",
    "        caches.append(cache)\n",
    "    return a, caches"
   ]
  },
  {
   "cell_type": "code",
   "execution_count": 680,
   "metadata": {},
   "outputs": [
    {
     "name": "stdout",
     "output_type": "stream",
     "text": [
      "Output: (10, 1617), cache length: 3\n",
      "==================\n",
      "layer 0: input: (64, 1617), w: (12, 64), b: (12, 1), z: (12, 1617)\n",
      "layer 1: input: (12, 1617), w: (8, 12), b: (8, 1), z: (8, 1617)\n",
      "layer 2: input: (8, 1617), w: (10, 8), b: (10, 1), z: (10, 1617)\n"
     ]
    }
   ],
   "source": [
    "AL, caches = forward_prop(X_train, W, b)\n",
    "print(f'Output: {AL.shape}, cache length: {len(caches)}')\n",
    "print('==================')\n",
    "for layer in range(3):\n",
    "    il, wl, bl, zl = caches[layer]\n",
    "    print(f'layer {layer}: input: {il.shape}, w: {wl.shape}, b: {bl.shape}, z: {zl.shape}')"
   ]
  },
  {
   "cell_type": "markdown",
   "metadata": {},
   "source": [
    "### cost function"
   ]
  },
  {
   "cell_type": "code",
   "execution_count": 681,
   "metadata": {},
   "outputs": [],
   "source": [
    "def compute_cost(AL, Y):\n",
    "    m = AL.shape[1]\n",
    "    # will have to check for why the commented cost function was returning (10, 10)\n",
    "#     return (-1 / m) * (np.dot(Y, np.log(AL.T)) + (np.dot(1 - Y, np.log(1 - AL.T))))\n",
    "    cost = -(1 / m) * np.sum((Y * np.log(AL) + (1 - Y) * np.log(1 - AL)))\n",
    "    cost=np.squeeze(cost)\n",
    "    assert(cost.shape == ())\n",
    "    return cost"
   ]
  },
  {
   "cell_type": "code",
   "execution_count": 682,
   "metadata": {},
   "outputs": [
    {
     "data": {
      "text/plain": [
       "0.33715100679120125"
      ]
     },
     "execution_count": 682,
     "metadata": {},
     "output_type": "execute_result"
    }
   ],
   "source": [
    "cost = compute_cost(AL, Y_train)\n",
    "cost"
   ]
  },
  {
   "cell_type": "markdown",
   "metadata": {},
   "source": [
    "### back propagation"
   ]
  },
  {
   "cell_type": "code",
   "execution_count": 683,
   "metadata": {},
   "outputs": [],
   "source": [
    "def linear_back(A_prev, W, b, dZ):\n",
    "    m = A_prev.shape[1]\n",
    "    \n",
    "    dW = (1 / m) * np.dot(dZ, A_prev.T)\n",
    "    db = (1 / m) * np.sum(dZ, axis = 1, keepdims = True)\n",
    "    dA_prev = np.dot(W.T, dZ)\n",
    "    \n",
    "    return dA_prev, dW, db"
   ]
  },
  {
   "cell_type": "code",
   "execution_count": 684,
   "metadata": {},
   "outputs": [],
   "source": [
    "def back_prop(AL, Y, caches):\n",
    "    L = len(caches)  # number of layers\n",
    "    m = AL.shape[1]\n",
    "    dAL = - (np.divide(Y, AL) - np.divide(1 - Y, 1 - AL))\n",
    "    grads = []\n",
    "\n",
    "    for l in reversed(range(L)):\n",
    "        A_prev, W, b, Z = caches[l]\n",
    "        if l == L-1:\n",
    "            dZ = sigmoid_back(dAL, Z)\n",
    "        else:\n",
    "            dZ = relu_back(dA_prev, Z)\n",
    "\n",
    "        dA_prev, dW, db = linear_back(A_prev, W, b, dZ)\n",
    "        grad = (dA_prev, dW, db)\n",
    "        \"\"\"\n",
    "        Because we are moving backward, we would need to store the gradient descent (GD)\n",
    "        for each layers properly. That is, even if we moving from L->L-1->...->1,\n",
    "        the grads (list containing GDs) in 1->...->L-1->L order.\n",
    "        (This approach will help us, while updating the weight(W) and bias(b) parameters\n",
    "        for next iteration.)\n",
    "        \n",
    "        Therefore, instead of append, I have used insert(0, grad) below.\n",
    "        \"\"\"\n",
    "        #grads.append(grad)\n",
    "        grads.insert(0, grad)\n",
    "    return grads"
   ]
  },
  {
   "cell_type": "code",
   "execution_count": 685,
   "metadata": {},
   "outputs": [
    {
     "name": "stdout",
     "output_type": "stream",
     "text": [
      "layer 0: dA_prev: (64, 1617), dW: (12, 64), db: (12, 1)\n",
      "layer 1: dA_prev: (12, 1617), dW: (8, 12), db: (8, 1)\n",
      "layer 2: dA_prev: (8, 1617), dW: (10, 8), db: (10, 1)\n"
     ]
    }
   ],
   "source": [
    "grads = back_prop(AL, Y_train, caches)\n",
    "L = len(grads)\n",
    "for l in range(L):\n",
    "    dA_prev, dW, db = grads[l]\n",
    "    print(f'layer {l}: dA_prev: {dA_prev.shape}, dW: {dW.shape}, db: {db.shape}')"
   ]
  },
  {
   "cell_type": "markdown",
   "metadata": {},
   "source": [
    "### update parameters"
   ]
  },
  {
   "cell_type": "code",
   "execution_count": 686,
   "metadata": {},
   "outputs": [],
   "source": [
    "def update_parameters(W, b, grads, learning_rate):\n",
    "    L = len(grads)\n",
    "    for l in range(L):\n",
    "        dA_prev, dW, db = grads[l]\n",
    "        W[l] = W[l] - learning_rate * dW\n",
    "        b[l] = b[l] - learning_rate * db\n",
    "    return W, b"
   ]
  },
  {
   "cell_type": "code",
   "execution_count": 687,
   "metadata": {},
   "outputs": [
    {
     "name": "stdout",
     "output_type": "stream",
     "text": [
      "W: (12, 64), b: (12, 1)\n",
      "W: (8, 12), b: (8, 1)\n",
      "W: (10, 8), b: (10, 1)\n"
     ]
    }
   ],
   "source": [
    "W, b = update_parameters(W, b, grads, 0.1)\n",
    "for l in range(len(grads)):\n",
    "    print(f'W: {W[l].shape}, b: {b[l].shape}')"
   ]
  },
  {
   "cell_type": "markdown",
   "metadata": {},
   "source": [
    "### bringing everything together"
   ]
  },
  {
   "cell_type": "code",
   "execution_count": 689,
   "metadata": {},
   "outputs": [],
   "source": [
    "def L_layer_model(X, Y, layers, learning_rate = 0.0075, num_iterations = 50000):\n",
    "    costs = []\n",
    "    L = len(layers) - 1\n",
    "    W, b = initialize_parameters(layers)\n",
    "    \n",
    "    for i in range(num_iterations):\n",
    "        # forward propagation\n",
    "        AL, caches = forward_prop(X, W, b)\n",
    "        # compute cost\n",
    "        cost = compute_cost(AL, Y)\n",
    "        # backward propagation\n",
    "        grads = back_prop(AL, Y, caches)\n",
    "        # update parameters\n",
    "        W, b = update_parameters(W, b, grads, learning_rate)\n",
    "        \n",
    "        if i % 1000 == 0:\n",
    "            print(f'Cost after iteration {i}: {cost}')\n",
    "            costs.append(cost)\n",
    "        \n",
    "    plt.plot(np.squeeze(costs))\n",
    "    plt.ylabel('cost')\n",
    "    plt.xlabel('iterations (per tens)')\n",
    "    plt.title('Learning Rate: ' + str(learning_rate))\n",
    "    plt.show()\n",
    "    \n",
    "    return W, b"
   ]
  },
  {
   "cell_type": "code",
   "execution_count": 690,
   "metadata": {},
   "outputs": [
    {
     "name": "stdout",
     "output_type": "stream",
     "text": [
      "Cost after iteration 0: 6.931488694746727\n",
      "Cost after iteration 1000: 3.479400424130829\n",
      "Cost after iteration 2000: 3.2503121372893076\n",
      "Cost after iteration 3000: 3.2501847495080343\n",
      "Cost after iteration 4000: 3.2500579402410628\n",
      "Cost after iteration 5000: 3.249900204944133\n",
      "Cost after iteration 6000: 3.249676371316968\n",
      "Cost after iteration 7000: 3.249322932575999\n",
      "Cost after iteration 8000: 3.248709438627679\n",
      "Cost after iteration 9000: 3.2475306831208157\n",
      "Cost after iteration 10000: 3.244939613155432\n",
      "Cost after iteration 11000: 3.237865647888034\n",
      "Cost after iteration 12000: 3.208594116924885\n",
      "Cost after iteration 13000: 3.0772756079957593\n",
      "Cost after iteration 14000: 2.8807704031334147\n",
      "Cost after iteration 15000: 2.7873034077570487\n",
      "Cost after iteration 16000: 2.7387288357894817\n",
      "Cost after iteration 17000: 2.7042446713038895\n",
      "Cost after iteration 18000: 2.674529364385176\n",
      "Cost after iteration 19000: 2.6468114299290093\n",
      "Cost after iteration 20000: 2.6144540846868503\n",
      "Cost after iteration 21000: 2.562865619286266\n",
      "Cost after iteration 22000: 2.484618101004531\n",
      "Cost after iteration 23000: 2.3996189377746577\n",
      "Cost after iteration 24000: 2.3103727456669154\n",
      "Cost after iteration 25000: 2.183989023492992\n",
      "Cost after iteration 26000: 2.0552981594672777\n",
      "Cost after iteration 27000: 1.8441308091399224\n",
      "Cost after iteration 28000: 1.665989080195091\n",
      "Cost after iteration 29000: 1.5304093262706724\n",
      "Cost after iteration 30000: 1.4168438763873918\n",
      "Cost after iteration 31000: 1.323599123185984\n",
      "Cost after iteration 32000: 1.2336523545128806\n",
      "Cost after iteration 33000: 1.1256708612234716\n",
      "Cost after iteration 34000: 0.9896601019341822\n",
      "Cost after iteration 35000: 0.8716818684393831\n",
      "Cost after iteration 36000: 0.7751472344773657\n",
      "Cost after iteration 37000: 0.6872489224543076\n",
      "Cost after iteration 38000: 0.6127398783300382\n",
      "Cost after iteration 39000: 0.553188356704874\n",
      "Cost after iteration 40000: 0.504855011131657\n",
      "Cost after iteration 41000: 0.4655533866330862\n",
      "Cost after iteration 42000: 0.4331365094767565\n",
      "Cost after iteration 43000: 0.40632783825629204\n",
      "Cost after iteration 44000: 0.38393719401718995\n",
      "Cost after iteration 45000: 0.3643244072003391\n",
      "Cost after iteration 46000: 0.3466408958761058\n",
      "Cost after iteration 47000: 0.3308472081971337\n",
      "Cost after iteration 48000: 0.3162566989632876\n",
      "Cost after iteration 49000: 0.3030705288127819\n"
     ]
    },
    {
     "data": {
      "image/png": "[encoded data removed]",
      "text/plain": [
       "<Figure size 432x288 with 1 Axes>"
      ]
     },
     "metadata": {
      "needs_background": "light"
     },
     "output_type": "display_data"
    }
   ],
   "source": [
    "layers = [64, 12, 8, 10]\n",
    "W, b = L_layer_model(X_train, Y_train, layers)"
   ]
  },
  {
   "cell_type": "markdown",
   "metadata": {},
   "source": [
    "### predict"
   ]
  },
  {
   "cell_type": "code",
   "execution_count": 782,
   "metadata": {},
   "outputs": [],
   "source": [
    "def predict_L_layer(X, W, b):\n",
    "    AL, caches = forward_prop(X, W, b)\n",
    "    prediction = np.argmax(AL, axis = 0)\n",
    "    return prediction.reshape(1, prediction.shape[0])\n",
    "\n",
    "def calculate_accuracy(Y_actual, Y_predicted):\n",
    "    print(f'Y: {Y_actual.shape}, Predicted: {Y_predicted.shape}')\n",
    "    Y_temp = np.argmax(Y_actual, axis = 0) # convert (10, m) matrix to (1, m) matrix\n",
    "    Y_actual = Y_temp.reshape(1, Y_temp.shape[0])  # bring it to same dimension as Y_predicted\n",
    "    return np.sum(Y_predicted == Y_actual) / Y_predicted.shape[1] * 100\n",
    "    "
   ]
  },
  {
   "cell_type": "code",
   "execution_count": 784,
   "metadata": {},
   "outputs": [
    {
     "name": "stdout",
     "output_type": "stream",
     "text": [
      "-----Training Result-----\n",
      "Y: (10, 1617), Predicted: (1, 1617)\n",
      "97.1552257266543\n",
      "-----Test Result-----\n",
      "Y: (10, 180), Predicted: (1, 180)\n",
      "93.88888888888889\n"
     ]
    }
   ],
   "source": [
    "predict_train = predict_L_layer(X_train, W, b)\n",
    "print('-----Training Result-----')\n",
    "result = calculate_accuracy(Y_train, predict_train)\n",
    "print(result)\n",
    "print('-----Test Result-----')\n",
    "predict_test = predict_L_layer(X_test, W, b)\n",
    "result = calculate_accuracy(Y_test, predict_test)\n",
    "print(result)"
   ]
  },
  {
   "cell_type": "code",
   "execution_count": null,
   "metadata": {},
   "outputs": [],
   "source": []
  }
 ],
 "metadata": {
  "kernelspec": {
   "display_name": "Python 3",
   "language": "python",
   "name": "python3"
  },
  "language_info": {
   "codemirror_mode": {
    "name": "ipython",
    "version": 3
   },
   "file_extension": ".py",
   "mimetype": "text/x-python",
   "name": "python",
   "nbconvert_exporter": "python",
   "pygments_lexer": "ipython3",
   "version": "3.7.6"
  }
 },
 "nbformat": 4,
 "nbformat_minor": 4
}
