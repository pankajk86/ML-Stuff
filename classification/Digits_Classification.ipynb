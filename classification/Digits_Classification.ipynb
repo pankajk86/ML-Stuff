{
 "cells": [
  {
   "cell_type": "code",
   "execution_count": 833,
   "metadata": {},
   "outputs": [],
   "source": [
    "# python modules\n",
    "from sklearn.datasets import load_digits\n",
    "from sklearn.model_selection import train_test_split\n",
    "import matplotlib.pyplot as plt\n",
    "import numpy as np\n",
    "import warnings\n",
    "warnings.filterwarnings(\"ignore\", category=RuntimeWarning)\n",
    "\n",
    "# my module for creating L-layered Neural Network\n",
    "import sequence_utils"
   ]
  },
  {
   "cell_type": "markdown",
   "metadata": {},
   "source": [
    "### load and prepare data"
   ]
  },
  {
   "cell_type": "code",
   "execution_count": 834,
   "metadata": {},
   "outputs": [
    {
     "name": "stdout",
     "output_type": "stream",
     "text": [
      "[0 1 2 3 4 5 6 7 8 9]\n",
      "[ 0.  1.  2.  3.  4.  5.  6.  7.  8.  9. 10. 11. 12. 13. 14. 15. 16.]\n",
      "Before Transpose: X: (1617, 64), y: (1617, 1)\n",
      "After Transpose: X: (64, 1617), y: (1, 1617)\n",
      "X_train: (64, 1617), Y_train: (10, 1617)\n",
      "X_test: (64, 180), Y_test: (10, 180)\n"
     ]
    }
   ],
   "source": [
    "digits = load_digits()\n",
    "print(np.unique(digits.target))\n",
    "data = digits.data\n",
    "print(np.unique(data))\n",
    "target = digits.target.reshape(data.shape[0], 1)\n",
    "\n",
    "# scale the feature value(digits.data) between 0 to 1 instead of 0 to 16\n",
    "data = data / 16\n",
    "\n",
    "# create training & test data set\n",
    "X_train, X_test, Y_train, Y_test = train_test_split(data, target, \n",
    "                                                    test_size = 0.1, random_state = 0)\n",
    "\n",
    "\"\"\"\n",
    "Dimension of input(X) and y(output) should be as follows:\n",
    "X:= (features, samples). i.e. if input has 1000 samples with 64 features in each sample,\n",
    "X should be arranged in (64, 1000) matrix. If input is provided in (1000, 64), \n",
    "then transpose it.\n",
    "\n",
    "Y:= (1, samples). Similar to X, each output should be stacked column-wise.\n",
    "\"\"\"\n",
    "print(f'Before Transpose: X: {X_train.shape}, y: {Y_train.shape}')\n",
    "X_train = X_train.T\n",
    "Y_train = Y_train.T\n",
    "X_test = X_test.T\n",
    "Y_test = Y_test.T\n",
    "\n",
    "print(f'After Transpose: X: {X_train.shape}, y: {Y_train.shape}')\n",
    "\n",
    "\"\"\"\n",
    "Currently, Y_train and Y_test are of (1, train_sample_size) and (1, test_sample_size).\n",
    "However, we know that it takes a value from 0 to 9. Therefore, we would need to convert\n",
    "these labels (Y's) to (10, train_sample_size) and (10, test_sample_size).\n",
    "\n",
    "Here, each row will for the matrix will contain one 1 and rest 0, with 1 denoting the index\n",
    "for the actual label value.\n",
    "\"\"\"\n",
    "m_train = Y_train.shape[1]\n",
    "Y_train_temp = np.zeros((10, m_train))\n",
    "for i in range(m_train):\n",
    "    Y_train_temp[Y_train[0, i], i] = 1\n",
    "Y_train = Y_train_temp\n",
    "    \n",
    "m_test = Y_test.shape[1]\n",
    "Y_test_temp = np.zeros((10, m_test))\n",
    "for i in range(m_test):\n",
    "    Y_test_temp[Y_test[0, i], i] = 1\n",
    "Y_test = Y_test_temp\n",
    "\n",
    "print(f'X_train: {X_train.shape}, Y_train: {Y_train.shape}')\n",
    "print(f'X_test: {X_test.shape}, Y_test: {Y_test.shape}')\n",
    "    \n",
    "# print(Y[:, 0:5])\n",
    "# print(Y_train[:, 0:5])\n"
   ]
  },
  {
   "cell_type": "markdown",
   "metadata": {},
   "source": [
    "### analyze data"
   ]
  },
  {
   "cell_type": "code",
   "execution_count": 836,
   "metadata": {},
   "outputs": [],
   "source": [
    "\"\"\"\n",
    "This method takes parameter values from 0 to 1796\n",
    "\"\"\"\n",
    "def print_details(sample_id):\n",
    "    x = X_train[:, sample_id].reshape(8, 8)\n",
    "    y = Y_train[:, sample_id]\n",
    "    print(f'X: {x},\\n y: {y}')\n",
    "    plt.gray()\n",
    "    plt.matshow(x)\n",
    "    plt.show()"
   ]
  },
  {
   "cell_type": "code",
   "execution_count": 837,
   "metadata": {},
   "outputs": [
    {
     "name": "stdout",
     "output_type": "stream",
     "text": [
      "X: [[0.     0.     0.     0.5625 0.9375 0.125  0.     0.    ]\n",
      " [0.     0.     0.3125 1.     0.6875 0.0625 0.     0.    ]\n",
      " [0.     0.     0.8125 0.9375 0.0625 0.     0.     0.    ]\n",
      " [0.     0.125  1.     0.6875 0.     0.     0.     0.    ]\n",
      " [0.     0.125  1.     0.6875 0.25   0.25   0.     0.    ]\n",
      " [0.     0.125  0.9375 1.     1.     0.875  0.625  0.0625]\n",
      " [0.     0.     0.5625 1.     0.4375 0.1875 0.9375 0.375 ]\n",
      " [0.     0.     0.     0.4375 0.9375 1.     1.     0.375 ]],\n",
      " y: [0. 0. 0. 0. 0. 0. 1. 0. 0. 0.]\n"
     ]
    },
    {
     "data": {
      "text/plain": [
       "<Figure size 432x288 with 0 Axes>"
      ]
     },
     "metadata": {},
     "output_type": "display_data"
    },
    {
     "data": {
      "image/png": "[encoded data removed]",
      "text/plain": [
       "<Figure size 288x288 with 1 Axes>"
      ]
     },
     "metadata": {
      "needs_background": "light"
     },
     "output_type": "display_data"
    }
   ],
   "source": [
    "# print details of any sample out of the available samples\n",
    "print_details(180)"
   ]
  },
  {
   "cell_type": "markdown",
   "metadata": {},
   "source": [
    "### initialize weights and bias"
   ]
  },
  {
   "cell_type": "code",
   "execution_count": 838,
   "metadata": {},
   "outputs": [
    {
     "name": "stdout",
     "output_type": "stream",
     "text": [
      "layer 0: W: (12, 64), b: (12, 1)\n",
      "layer 1: W: (8, 12), b: (8, 1)\n",
      "layer 2: W: (10, 8), b: (10, 1)\n"
     ]
    }
   ],
   "source": [
    "layers = [64, 12, 8, 10]\n",
    "W, b = initialize_parameters(layers)\n",
    "\n",
    "for l in range(len(layers) - 1):\n",
    "    print(f'layer {l}: W: {W[l].shape}, b: {b[l].shape}')"
   ]
  },
  {
   "cell_type": "markdown",
   "metadata": {},
   "source": [
    "### forward propagation"
   ]
  },
  {
   "cell_type": "code",
   "execution_count": 839,
   "metadata": {},
   "outputs": [
    {
     "name": "stdout",
     "output_type": "stream",
     "text": [
      "Output: (10, 1617), cache length: 3\n",
      "==================\n",
      "layer 0: input: (64, 1617), w: (12, 64), b: (12, 1), z: (12, 1617)\n",
      "layer 1: input: (12, 1617), w: (8, 12), b: (8, 1), z: (8, 1617)\n",
      "layer 2: input: (8, 1617), w: (10, 8), b: (10, 1), z: (10, 1617)\n"
     ]
    }
   ],
   "source": [
    "AL, caches = forward_prop(X_train, W, b)\n",
    "print(f'Output: {AL.shape}, cache length: {len(caches)}')\n",
    "print('==================')\n",
    "for layer in range(3):\n",
    "    il, wl, bl, zl = caches[layer]\n",
    "    print(f'layer {layer}: input: {il.shape}, w: {wl.shape}, b: {bl.shape}, z: {zl.shape}')"
   ]
  },
  {
   "cell_type": "markdown",
   "metadata": {},
   "source": [
    "### cost function"
   ]
  },
  {
   "cell_type": "code",
   "execution_count": 840,
   "metadata": {},
   "outputs": [
    {
     "data": {
      "text/plain": [
       "6.93147952279232"
      ]
     },
     "execution_count": 840,
     "metadata": {},
     "output_type": "execute_result"
    }
   ],
   "source": [
    "cost = compute_cost(AL, Y_train)\n",
    "cost"
   ]
  },
  {
   "cell_type": "markdown",
   "metadata": {},
   "source": [
    "### back propagation"
   ]
  },
  {
   "cell_type": "code",
   "execution_count": 841,
   "metadata": {},
   "outputs": [
    {
     "name": "stdout",
     "output_type": "stream",
     "text": [
      "layer 0: dA_prev: (64, 1617), dW: (12, 64), db: (12, 1)\n",
      "layer 1: dA_prev: (12, 1617), dW: (8, 12), db: (8, 1)\n",
      "layer 2: dA_prev: (8, 1617), dW: (10, 8), db: (10, 1)\n"
     ]
    }
   ],
   "source": [
    "grads = back_prop(AL, Y_train, caches)\n",
    "L = len(grads)\n",
    "for l in range(L):\n",
    "    dA_prev, dW, db = grads[l]\n",
    "    print(f'layer {l}: dA_prev: {dA_prev.shape}, dW: {dW.shape}, db: {db.shape}')"
   ]
  },
  {
   "cell_type": "markdown",
   "metadata": {},
   "source": [
    "### update parameters"
   ]
  },
  {
   "cell_type": "code",
   "execution_count": 842,
   "metadata": {},
   "outputs": [
    {
     "name": "stdout",
     "output_type": "stream",
     "text": [
      "W: (12, 64), b: (12, 1)\n",
      "W: (8, 12), b: (8, 1)\n",
      "W: (10, 8), b: (10, 1)\n"
     ]
    }
   ],
   "source": [
    "W, b = update_parameters(W, b, grads, 0.1)\n",
    "for l in range(len(grads)):\n",
    "    print(f'W: {W[l].shape}, b: {b[l].shape}')"
   ]
  },
  {
   "cell_type": "markdown",
   "metadata": {},
   "source": [
    "### bringing everything together"
   ]
  },
  {
   "cell_type": "code",
   "execution_count": 843,
   "metadata": {},
   "outputs": [],
   "source": [
    "def L_layer_model(X, Y, layers, learning_rate = 0.0075, num_iterations = 50000):\n",
    "    costs = []\n",
    "    L = len(layers) - 1\n",
    "    W, b = initialize_parameters(layers)\n",
    "    \n",
    "    for i in range(num_iterations):\n",
    "        # forward propagation\n",
    "        AL, caches = forward_prop(X, W, b)\n",
    "        # compute cost\n",
    "        cost = compute_cost(AL, Y)\n",
    "        # backward propagation\n",
    "        grads = back_prop(AL, Y, caches)\n",
    "        # update parameters\n",
    "        W, b = update_parameters(W, b, grads, learning_rate)\n",
    "        \n",
    "        if i % 1000 == 0:\n",
    "            print(f'Cost after iteration {i}: {cost}')\n",
    "            costs.append(cost)\n",
    "        \n",
    "    plt.plot(np.squeeze(costs))\n",
    "    plt.ylabel('cost')\n",
    "    plt.xlabel('iterations (per tens)')\n",
    "    plt.title('Learning Rate: ' + str(learning_rate))\n",
    "    plt.show()\n",
    "    \n",
    "    return W, b"
   ]
  },
  {
   "cell_type": "code",
   "execution_count": 844,
   "metadata": {},
   "outputs": [
    {
     "name": "stdout",
     "output_type": "stream",
     "text": [
      "Cost after iteration 0: 6.9314783295317115\n",
      "Cost after iteration 1000: 3.4223525742136913\n",
      "Cost after iteration 2000: 3.250489373864793\n",
      "Cost after iteration 3000: 3.2503117327431537\n",
      "Cost after iteration 4000: 3.250115759102092\n",
      "Cost after iteration 5000: 3.2498572924934166\n",
      "Cost after iteration 6000: 3.2494600564563165\n",
      "Cost after iteration 7000: 3.248762607802764\n",
      "Cost after iteration 8000: 3.2473755701370735\n",
      "Cost after iteration 9000: 3.2441887497061535\n",
      "Cost after iteration 10000: 3.2350317228870433\n",
      "Cost after iteration 11000: 3.195024364752964\n",
      "Cost after iteration 12000: 3.0455655792769734\n",
      "Cost after iteration 13000: 2.858243573202628\n",
      "Cost after iteration 14000: 2.771159316224039\n",
      "Cost after iteration 15000: 2.7148744703471306\n",
      "Cost after iteration 16000: 2.674270174503495\n",
      "Cost after iteration 17000: 2.6416504707608413\n",
      "Cost after iteration 18000: 2.6084614326961635\n",
      "Cost after iteration 19000: 2.5636243267417864\n",
      "Cost after iteration 20000: 2.485889232109282\n",
      "Cost after iteration 21000: 2.4003598450741506\n",
      "Cost after iteration 22000: 2.3255904628115536\n",
      "Cost after iteration 23000: 2.2178065983432194\n",
      "Cost after iteration 24000: 2.10410022741964\n",
      "Cost after iteration 25000: 1.9373814594919951\n",
      "Cost after iteration 26000: 1.7778447168372737\n",
      "Cost after iteration 27000: 1.6535087085520517\n",
      "Cost after iteration 28000: 1.5158442587635985\n",
      "Cost after iteration 29000: 1.389149318315175\n",
      "Cost after iteration 30000: 1.2741588843621314\n",
      "Cost after iteration 31000: 1.1470383613301849\n",
      "Cost after iteration 32000: 0.9893619282613987\n",
      "Cost after iteration 33000: 0.8478531270105688\n",
      "Cost after iteration 34000: 0.7385213359922211\n",
      "Cost after iteration 35000: 0.657427765944489\n",
      "Cost after iteration 36000: 0.5912022951456422\n",
      "Cost after iteration 37000: 0.5315870463628933\n",
      "Cost after iteration 38000: 0.4755156303421734\n",
      "Cost after iteration 39000: 0.42949107554320654\n",
      "Cost after iteration 40000: 0.39337212554747836\n",
      "Cost after iteration 41000: 0.364526542748544\n",
      "Cost after iteration 42000: 0.340496343838498\n",
      "Cost after iteration 43000: 0.3200104855290996\n",
      "Cost after iteration 44000: 0.30232896827976874\n",
      "Cost after iteration 45000: 0.28676236323816906\n",
      "Cost after iteration 46000: 0.27284310371900694\n",
      "Cost after iteration 47000: 0.25990062200233033\n",
      "Cost after iteration 48000: 0.2480004084160091\n",
      "Cost after iteration 49000: 0.23699388599754348\n"
     ]
    },
    {
     "data": {
      "image/png": "[encoded data removed]",
      "text/plain": [
       "<Figure size 432x288 with 1 Axes>"
      ]
     },
     "metadata": {
      "needs_background": "light"
     },
     "output_type": "display_data"
    }
   ],
   "source": [
    "layers = [64, 12, 8, 10]\n",
    "W, b = L_layer_model(X_train, Y_train, layers)"
   ]
  },
  {
   "cell_type": "markdown",
   "metadata": {},
   "source": [
    "### predict"
   ]
  },
  {
   "cell_type": "code",
   "execution_count": 782,
   "metadata": {},
   "outputs": [],
   "source": [
    "def predict_L_layer(X, W, b):\n",
    "    AL, caches = forward_prop(X, W, b)\n",
    "    prediction = np.argmax(AL, axis = 0)\n",
    "    return prediction.reshape(1, prediction.shape[0])\n",
    "\n",
    "def calculate_accuracy(Y_actual, Y_predicted):\n",
    "    print(f'Y: {Y_actual.shape}, Predicted: {Y_predicted.shape}')\n",
    "    Y_temp = np.argmax(Y_actual, axis = 0) # convert (10, m) matrix to (1, m) matrix\n",
    "    Y_actual = Y_temp.reshape(1, Y_temp.shape[0])  # bring it to same dimension as Y_predicted\n",
    "    return np.sum(Y_predicted == Y_actual) / Y_predicted.shape[1] * 100\n",
    "    "
   ]
  },
  {
   "cell_type": "code",
   "execution_count": 784,
   "metadata": {},
   "outputs": [
    {
     "name": "stdout",
     "output_type": "stream",
     "text": [
      "-----Training Result-----\n",
      "Y: (10, 1617), Predicted: (1, 1617)\n",
      "97.1552257266543\n",
      "-----Test Result-----\n",
      "Y: (10, 180), Predicted: (1, 180)\n",
      "93.88888888888889\n"
     ]
    }
   ],
   "source": [
    "predict_train = predict_L_layer(X_train, W, b)\n",
    "print('-----Training Result-----')\n",
    "result = calculate_accuracy(Y_train, predict_train)\n",
    "print(result)\n",
    "print('-----Test Result-----')\n",
    "predict_test = predict_L_layer(X_test, W, b)\n",
    "result = calculate_accuracy(Y_test, predict_test)\n",
    "print(result)"
   ]
  }
 ],
 "metadata": {
  "kernelspec": {
   "display_name": "Python 3",
   "language": "python",
   "name": "python3"
  },
  "language_info": {
   "codemirror_mode": {
    "name": "ipython",
    "version": 3
   },
   "file_extension": ".py",
   "mimetype": "text/x-python",
   "name": "python",
   "nbconvert_exporter": "python",
   "pygments_lexer": "ipython3",
   "version": "3.7.6"
  }
 },
 "nbformat": 4,
 "nbformat_minor": 4
}
