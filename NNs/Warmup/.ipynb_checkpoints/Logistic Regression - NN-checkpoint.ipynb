{
 "cells": [
  {
   "cell_type": "code",
   "execution_count": 110,
   "metadata": {},
   "outputs": [],
   "source": [
    "import numpy as np\n",
    "import matplotlib.pyplot as plt"
   ]
  },
  {
   "cell_type": "code",
   "execution_count": 106,
   "metadata": {},
   "outputs": [],
   "source": [
    "X = np.random.rand(3, 10) # no. of features = 3, sample count = 10\n",
    "\n",
    "w1 = np.random.rand(4, 3)\n",
    "w2 = np.random.rand(3, 4)\n",
    "w3 = np.random.rand(1, 3)\n",
    "\n",
    "b1 = np.random.rand(4, 1)\n",
    "b2 = np.random.rand(3, 1)\n",
    "b3 = np.random.rand(1, 1)\n",
    "\n",
    "W = [w1, w2, w3]\n",
    "b = [b1, b2, b3]"
   ]
  },
  {
   "cell_type": "markdown",
   "metadata": {},
   "source": [
    "Various Activation Functions:\n",
    "- Sigmoid function (used for binary classification)\n",
    "- tanh function (is better than sigmoid)\n",
    "- ReLU function (Rectified Linear Unit, most commonly used)"
   ]
  },
  {
   "cell_type": "code",
   "execution_count": 138,
   "metadata": {},
   "outputs": [],
   "source": [
    "def sigmoid(z):\n",
    "    return 1 / (1 + np.exp(-z))\n",
    "\n",
    "def tanh(z):\n",
    "    return (np.exp(z) - np.exp(-z)) / (np.exp(z) + np.exp(-z))\n",
    "\n",
    "def reLU(z):\n",
    "    return np.maximum(0, z)"
   ]
  },
  {
   "cell_type": "markdown",
   "metadata": {},
   "source": [
    "- If weight matrices (w1, w2, w3) dimensions are (out_layer_size x in_layer_size):\n",
    "    z = w.dot(input) + b\n",
    "- else if their dimensions are (in_layer_size x out_layer_size):\n",
    "    z = w.transpose().dot(input) + b\n",
    "    \n",
    "**Note**: I would be using the first convention."
   ]
  },
  {
   "cell_type": "code",
   "execution_count": 129,
   "metadata": {},
   "outputs": [],
   "source": [
    "def nn_feed_forward(layers, W, X, b):\n",
    "    for i in range(layers):\n",
    "        print(f'Working on Layer: {i}')\n",
    "        if i == 0:\n",
    "            input = X\n",
    "        else:\n",
    "            input = h\n",
    "        print(f'W[i]: {W[i].shape}, input: {input.shape}, b: {b[i].shape}')\n",
    "        z = np.dot(W[i], input) + b[i]\n",
    "        print(f'z: {z.shape}')\n",
    "        h = sigmoid(z)\n",
    "        print(\"==============\")\n",
    "    return h"
   ]
  },
  {
   "cell_type": "code",
   "execution_count": 130,
   "metadata": {},
   "outputs": [
    {
     "name": "stdout",
     "output_type": "stream",
     "text": [
      "Working on Layer: 0\n",
      "W[i]: (4, 3), input: (3, 10), b: (4, 1)\n",
      "z: (4, 10)\n",
      "==============\n",
      "Working on Layer: 1\n",
      "W[i]: (3, 4), input: (4, 10), b: (3, 1)\n",
      "z: (3, 10)\n",
      "==============\n",
      "Working on Layer: 2\n",
      "W[i]: (1, 3), input: (3, 10), b: (1, 1)\n",
      "z: (1, 10)\n",
      "==============\n"
     ]
    },
    {
     "data": {
      "text/plain": [
       "array([[0.84553593, 0.84431776, 0.84184806, 0.84431356, 0.84471555,\n",
       "        0.84407413, 0.8399733 , 0.84230182, 0.84422062, 0.8436931 ]])"
      ]
     },
     "execution_count": 130,
     "metadata": {},
     "output_type": "execute_result"
    }
   ],
   "source": [
    "nn_feed_forward(3, W, X, b)"
   ]
  },
  {
   "cell_type": "code",
   "execution_count": 139,
   "metadata": {},
   "outputs": [
    {
     "data": {
      "text/plain": [
       "array([[0.52147072, 0.22806069, 0.99474447, 0.14387126],\n",
       "       [0.50794817, 0.58211654, 0.81194173, 0.75897216],\n",
       "       [0.6807231 , 0.37591505, 0.17008295, 0.27345687],\n",
       "       [0.92297234, 0.25986263, 0.57036346, 0.94723981],\n",
       "       [0.31113368, 0.05806898, 0.80012989, 0.07834184],\n",
       "       [0.96434182, 0.37024955, 0.23538306, 0.04449689]])"
      ]
     },
     "execution_count": 139,
     "metadata": {},
     "output_type": "execute_result"
    }
   ],
   "source": [
    "a = np.random.rand(4, 2, 3)\n",
    "a = a.reshape(a.shape[0], -1).T\n",
    "a"
   ]
  },
  {
   "cell_type": "code",
   "execution_count": 140,
   "metadata": {},
   "outputs": [
    {
     "data": {
      "text/plain": [
       "[<matplotlib.lines.Line2D at 0x10e66d710>]"
      ]
     },
     "execution_count": 140,
     "metadata": {},
     "output_type": "execute_result"
    },
    {
     "data": {
      "image/png": "[encoded data removed]",
      "text/plain": [
       "<Figure size 432x288 with 1 Axes>"
      ]
     },
     "metadata": {
      "needs_background": "light"
     },
     "output_type": "display_data"
    }
   ],
   "source": [
    "x = np.arange(-10, 10, 0.01)\n",
    "x = x.reshape((x.shape[0], 1))\n",
    "\n",
    "y = tanh(x)\n",
    "plt.plot(x, y)"
   ]
  },
  {
   "cell_type": "code",
   "execution_count": null,
   "metadata": {},
   "outputs": [],
   "source": []
  }
 ],
 "metadata": {
  "kernelspec": {
   "display_name": "Python 3",
   "language": "python",
   "name": "python3"
  },
  "language_info": {
   "codemirror_mode": {
    "name": "ipython",
    "version": 3
   },
   "file_extension": ".py",
   "mimetype": "text/x-python",
   "name": "python",
   "nbconvert_exporter": "python",
   "pygments_lexer": "ipython3",
   "version": "3.7.6"
  }
 },
 "nbformat": 4,
 "nbformat_minor": 4
}
