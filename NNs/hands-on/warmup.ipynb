{
 "cells": [
  {
   "cell_type": "code",
   "execution_count": 3,
   "metadata": {
    "collapsed": true
   },
   "outputs": [],
   "source": [
    "import matplotlib.pyplot as plt\n",
    "%matplotlib inline\n",
    "import pandas as pd\n",
    "from sklearn import datasets\n",
    "from sklearn.model_selection import train_test_split\n",
    "from test_utils.testCases import *\n",
    "from dnn_utils.activations import *\n",
    "\n",
    "np.random.seed(3)"
   ]
  },
  {
   "cell_type": "code",
   "execution_count": 4,
   "metadata": {},
   "outputs": [
    {
     "name": "stdout",
     "output_type": "stream",
     "text": [
      "dict_keys(['data', 'target', 'target_names', 'images', 'DESCR'])\nTrain Set:: X_train: (1203, 64), y_train: (1203, 1)\nTest Set:: X_test: (594, 64), y_test: (594, 1)\n"
     ]
    }
   ],
   "source": [
    "load_digits = datasets.load_digits()\n",
    "X = pd.DataFrame(data=load_digits.data)\n",
    "y = pd.DataFrame(data=load_digits.target)\n",
    "\n",
    "print(load_digits.keys())\n",
    "\n",
    "X_train, X_test, y_train, y_test = train_test_split(X, y, test_size=0.33, random_state=44)\n",
    "\n",
    "print(f'Train Set:: X_train: {X_train.shape}, y_train: {y_train.shape}')\n",
    "print(f'Test Set:: X_test: {X_test.shape}, y_test: {y_test.shape}')"
   ]
  },
  {
   "cell_type": "code",
   "execution_count": 38,
   "metadata": {},
   "outputs": [],
   "source": [
    "\"\"\"\n",
    "\n",
    "GOAL: \n",
    "\n",
    "1. Create a N (say N=2) layer NN, with each of the layers have specific numbers of units. \n",
    "For example, for N = 2, the number of units be [units_count1, units_count2].\n",
    "\n",
    "2. Implement Forward Propagation for the NN.\n",
    "\n",
    "3. Calculate cost.\n",
    "\n",
    "4. Calculate Gradient by using Backward propagation.\n",
    "\n",
    "5. Update parameters.\n",
    "\n",
    "\"\"\""
   ]
  },
  {
   "cell_type": "code",
   "execution_count": 5,
   "metadata": {},
   "outputs": [],
   "source": [
    "def initialize_parameters(layer_dims):\n",
    "    parameters = {}\n",
    "    \n",
    "    # Suppose layer_dims = [5, 4, 3]. It means, 5 inputs, 4 hidden units in layer 1 and 3 units in the output layer.\n",
    "    for l in range(1, len(layer_dims)):\n",
    "        \n",
    "        # we will evaluate W1/b1 for layer 1 and W2/b2 for layer 2. \n",
    "        parameters['W' + str(l)] = np.random.randn(layer_dims[l], layer_dims[l-1]) * 0.01\n",
    "        parameters['b' + str(l)] = np.zeros((layer_dims[l], 1))\n",
    "    \n",
    "    return parameters"
   ]
  },
  {
   "cell_type": "code",
   "execution_count": 6,
   "metadata": {},
   "outputs": [
    {
     "name": "stdout",
     "output_type": "stream",
     "text": [
      "[[ 0.01788628  0.0043651   0.00096497 -0.01863493 -0.00277388]\n [-0.00354759 -0.00082741 -0.00627001 -0.00043818 -0.00477218]\n [-0.01313865  0.00884622  0.00881318  0.01709573  0.00050034]\n [-0.00404677 -0.0054536  -0.01546477  0.00982367 -0.01101068]]\n[[ 0.]\n [ 0.]\n [ 0.]\n [ 0.]]\n[[-0.01185047 -0.0020565   0.01486148  0.00236716]\n [-0.01023785 -0.00712993  0.00625245 -0.00160513]\n [-0.00768836 -0.00230031  0.00745056  0.01976111]]\n[[ 0.]\n [ 0.]\n [ 0.]]\n"
     ]
    }
   ],
   "source": [
    "\"\"\" Test Initialize parameters \"\"\"\n",
    "\n",
    "parameters = initialize_parameters([5, 4, 3])\n",
    "print(parameters['W1'])\n",
    "print(parameters['b1'])\n",
    "print(parameters['W2'])\n",
    "print(parameters['b2'])"
   ]
  },
  {
   "cell_type": "code",
   "execution_count": 7,
   "metadata": {},
   "outputs": [],
   "source": [
    "def linear_forward(A, W, b):\n",
    "    Z = np.dot(W, A) + b\n",
    "    cache = (A, W, b)\n",
    "    \n",
    "    return Z, cache"
   ]
  },
  {
   "cell_type": "code",
   "execution_count": 8,
   "metadata": {},
   "outputs": [
    {
     "name": "stdout",
     "output_type": "stream",
     "text": [
      "[[ 3.26295337 -1.23429987]]\n"
     ]
    }
   ],
   "source": [
    "\"\"\" Test linear forward \"\"\"\n",
    "\n",
    "A, W, b = linear_forward_test_case()\n",
    "Z, cache = linear_forward(A, W, b)\n",
    "print(Z)"
   ]
  },
  {
   "cell_type": "code",
   "execution_count": 9,
   "metadata": {},
   "outputs": [],
   "source": [
    "def linear_activation_forward(A_prev, W, b, activation):\n",
    "    \n",
    "    A = None\n",
    "    activation_cache = None\n",
    "    \n",
    "    Z, linear_cache = linear_forward(A_prev, W, b)\n",
    "    \n",
    "    if activation == 'sigmoid':\n",
    "        A, activation_cache = sigmoid(Z)\n",
    "    elif activation == 'relu':\n",
    "        A, activation_cache = relu(Z)\n",
    "        \n",
    "    cache = (linear_cache, activation_cache)\n",
    "    return A, cache"
   ]
  },
  {
   "cell_type": "code",
   "execution_count": 10,
   "metadata": {},
   "outputs": [
    {
     "name": "stdout",
     "output_type": "stream",
     "text": [
      "[[ 0.96890023  0.11013289]]\n[[ 3.43896131  0.        ]]\n"
     ]
    }
   ],
   "source": [
    "\"\"\" Test linear activation forward \"\"\"\n",
    "\n",
    "A_prev, W, b = linear_activation_forward_test_case()\n",
    "A, cache = linear_activation_forward(A_prev, W, b, activation='sigmoid')\n",
    "print(A)\n",
    "\n",
    "A, cache = linear_activation_forward(A_prev, W, b, activation='relu')\n",
    "print(A)"
   ]
  },
  {
   "cell_type": "code",
   "execution_count": 11,
   "metadata": {},
   "outputs": [],
   "source": [
    "def L_model_forward(X, parameters):\n",
    "    \n",
    "    caches = []\n",
    "    A = X\n",
    "    L = len(parameters) // 2\n",
    "    \n",
    "    for l in range(1, L):\n",
    "        A, cache = linear_activation_forward(A, parameters['W' + str(l)], parameters['b' + str(l)], 'relu')\n",
    "        caches.append(cache)\n",
    "    \n",
    "    AL, cache = linear_activation_forward(A, parameters['W' + str(L)], parameters['b' + str(L)], 'sigmoid')\n",
    "    caches.append(cache)\n",
    "    \n",
    "    return AL, caches"
   ]
  },
  {
   "cell_type": "code",
   "execution_count": 12,
   "metadata": {},
   "outputs": [
    {
     "name": "stdout",
     "output_type": "stream",
     "text": [
      "[[ 0.03921668  0.70498921  0.19734387  0.04728177]]\n3\n"
     ]
    }
   ],
   "source": [
    "\"\"\" Test L_model_forward \"\"\"\n",
    "\n",
    "X, parameters = L_model_forward_test_case_2hidden()\n",
    "AL, caches = L_model_forward(X, parameters)\n",
    "\n",
    "print(AL)\n",
    "print(len(caches))"
   ]
  },
  {
   "cell_type": "code",
   "execution_count": 13,
   "metadata": {},
   "outputs": [],
   "source": [
    "def compute_cost(AL, Y):\n",
    "    \n",
    "    m = Y.shape[1]  # number of columns\n",
    "    \n",
    "    cost = -1/m * np.sum(np.multiply(Y, np.log(AL)) + np.multiply((1-Y), np.log(1-AL)))\n",
    "    # cost = np.squeeze(cost)\n",
    "    return cost"
   ]
  },
  {
   "cell_type": "code",
   "execution_count": 14,
   "metadata": {},
   "outputs": [
    {
     "name": "stdout",
     "output_type": "stream",
     "text": [
      "0.414931599615\n"
     ]
    }
   ],
   "source": [
    "\"\"\" Test compute_cost \"\"\"\n",
    "Y, AL = compute_cost_test_case()\n",
    "cost = compute_cost(AL, Y)\n",
    "print(cost)"
   ]
  },
  {
   "cell_type": "code",
   "execution_count": 15,
   "metadata": {},
   "outputs": [],
   "source": [
    "def linear_backward(dZ, cache):\n",
    "    \n",
    "    A_prev, W, b = cache\n",
    "    m = A_prev.shape[1]\n",
    "    \n",
    "    dW = 1/m * np.dot(dZ, A_prev.T)\n",
    "    db = 1/m * np.sum(dZ, axis=1, keepdims=True)\n",
    "    dA_prev = np.dot(W.T, dZ)\n",
    "    \n",
    "    return dA_prev, dW, db"
   ]
  },
  {
   "cell_type": "code",
   "execution_count": 16,
   "metadata": {},
   "outputs": [
    {
     "name": "stdout",
     "output_type": "stream",
     "text": [
      "dA_prev: [[ 0.51822968 -0.19517421]\n [-0.40506361  0.15255393]\n [ 2.37496825 -0.89445391]]\n\ndW: [[-0.10076895  1.40685096  1.64992505]]\n\ndb: [[ 0.50629448]]\n\n"
     ]
    }
   ],
   "source": [
    "\"\"\" Test linear_backward \"\"\"\n",
    "dZ, cache = linear_backward_test_case()\n",
    "dA_prev, dW, db = linear_backward(dZ, cache)\n",
    "\n",
    "print(f\"dA_prev: {dA_prev}\\n\")\n",
    "print(f\"dW: {dW}\\n\")\n",
    "print(f\"db: {db}\\n\")"
   ]
  },
  {
   "cell_type": "code",
   "execution_count": 17,
   "metadata": {},
   "outputs": [],
   "source": [
    "def linear_activation_backward(dA, cache, activation):\n",
    "    \n",
    "    linear_cache, activation_cache = cache\n",
    "    \n",
    "    if activation == 'relu':\n",
    "        dZ = relu_backward(dA, activation_cache)\n",
    "    elif activation == 'sigmoid':\n",
    "        dZ = sigmoid_backward(dA, activation_cache)\n",
    "\n",
    "    dA_prev, dW, db = linear_backward(dZ, linear_cache)\n",
    "    \n",
    "    return dA_prev, dW, db"
   ]
  },
  {
   "cell_type": "code",
   "execution_count": 18,
   "metadata": {},
   "outputs": [
    {
     "name": "stdout",
     "output_type": "stream",
     "text": [
      "dA_prev: [[ 0.11017994  0.01105339]\n [ 0.09466817  0.00949723]\n [-0.05743092 -0.00576154]]\n\ndW: [[ 0.10266786  0.09778551 -0.01968084]]\n\ndb: [[-0.05729622]]\n\ndA_prev: [[ 0.44090989 -0.        ]\n [ 0.37883606 -0.        ]\n [-0.2298228   0.        ]]\n\ndW: [[ 0.44513824  0.37371418 -0.10478989]]\n\ndb: [[-0.20837892]]\n\n"
     ]
    }
   ],
   "source": [
    "\"\"\" Test linear_activation_backward \"\"\"\n",
    "\n",
    "AL, cache = linear_activation_backward_test_case()\n",
    "dA_prev, dW, db = linear_activation_backward(AL, cache, 'sigmoid')\n",
    "\n",
    "print(f\"dA_prev: {dA_prev}\\n\")\n",
    "print(f\"dW: {dW}\\n\")\n",
    "print(f\"db: {db}\\n\")\n",
    "\n",
    "dA_prev, dW, db = linear_activation_backward(AL, cache, 'relu')\n",
    "\n",
    "print(f\"dA_prev: {dA_prev}\\n\")\n",
    "print(f\"dW: {dW}\\n\")\n",
    "print(f\"db: {db}\\n\")\n"
   ]
  },
  {
   "cell_type": "code",
   "execution_count": 19,
   "metadata": {},
   "outputs": [],
   "source": [
    "def L_model_backward(AL, Y, caches):\n",
    "    \n",
    "    grads = {}\n",
    "    L = len(caches)\n",
    "    Y = Y.reshape(AL.shape)\n",
    "    \n",
    "    # for output layer\n",
    "    dAL = - (np.divide(Y, AL) - np.divide(1-Y, 1-AL))\n",
    "    current_cache = caches[L-1]\n",
    "    grads['dA' + str(L-1)], grads['dW' + str(L)], grads['db' + str(L)] = linear_activation_backward(dAL, current_cache, 'sigmoid')\n",
    "    \n",
    "    # for the hidden layers in reverse order, i.e. from L-2 to 0\n",
    "    for l in reversed(range(L-1)):\n",
    "        current_cache = caches[l]\n",
    "        grads['dA' + str(l)], grads['dW' + str(l+1)], grads['db' + str(l+1)] = linear_activation_backward(grads['dA' + str(l+1)], current_cache, 'relu')\n",
    "        \n",
    "    return grads"
   ]
  },
  {
   "cell_type": "code",
   "execution_count": 20,
   "metadata": {},
   "outputs": [
    {
     "name": "stdout",
     "output_type": "stream",
     "text": [
      "dW1 = [[ 0.41010002  0.07807203  0.13798444  0.10502167]\n [ 0.          0.          0.          0.        ]\n [ 0.05283652  0.01005865  0.01777766  0.0135308 ]]\ndb1 = [[-0.22007063]\n [ 0.        ]\n [-0.02835349]]\ndA1 = [[ 0.12913162 -0.44014127]\n [-0.14175655  0.48317296]\n [ 0.01663708 -0.05670698]]\n"
     ]
    }
   ],
   "source": [
    "\"\"\" Test L_model_backward \"\"\"\n",
    "\n",
    "AL, Y_access, caches = L_model_backward_test_case()\n",
    "grads = L_model_backward(AL, Y_access, caches)\n",
    "\n",
    "print_grads(grads)"
   ]
  },
  {
   "cell_type": "code",
   "execution_count": 20,
   "metadata": {},
   "outputs": [],
   "source": [
    "def update_parameters(parameters, grads, learning_rate):\n",
    "    \n",
    "    L = len(parameters) // 2\n",
    "    \n",
    "    for l in range(L):\n",
    "        parameters['W' + str(l+1)] = parameters['W' + str(l+1)] - learning_rate * grads['dW' + str(l+1)]\n",
    "        parameters['b' + str(l+1)] = parameters['b' + str(l+1)] - learning_rate * grads['db' + str(l+1)]\n",
    "    \n",
    "    return parameters"
   ]
  },
  {
   "cell_type": "code",
   "execution_count": 23,
   "metadata": {},
   "outputs": [
    {
     "name": "stdout",
     "output_type": "stream",
     "text": [
      "W1: [[-0.59562069 -0.09991781 -2.14584584  1.82662008]\n [-1.76569676 -0.80627147  0.51115557 -1.18258802]\n [-1.0535704  -0.86128581  0.68284052  2.20374577]]\nb1: [[-0.04659241]\n [-1.28888275]\n [ 0.53405496]]\nW2: [[-0.55569196  0.0354055   1.32964895]]\nb2: [[-0.84610769]]\n"
     ]
    }
   ],
   "source": [
    "parameters, grads = update_parameters_test_case()\n",
    "parameters = update_parameters(parameters, grads, 0.1)\n",
    "\n",
    "print(f\"W1: {parameters['W1']}\")\n",
    "print(f\"b1: {parameters['b1']}\")\n",
    "print(f\"W2: {parameters['W2']}\")\n",
    "print(f\"b2: {parameters['b2']}\")"
   ]
  },
  {
   "cell_type": "code",
   "execution_count": null,
   "metadata": {},
   "outputs": [],
   "source": []
  }
 ],
 "metadata": {
  "kernelspec": {
   "display_name": "Python 2",
   "language": "python",
   "name": "python2"
  },
  "language_info": {
   "codemirror_mode": {
    "name": "ipython",
    "version": 2
   },
   "file_extension": ".py",
   "mimetype": "text/x-python",
   "name": "python",
   "nbconvert_exporter": "python",
   "pygments_lexer": "ipython2",
   "version": "2.7.6"
  }
 },
 "nbformat": 4,
 "nbformat_minor": 0
}
