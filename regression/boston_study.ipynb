{
 "cells": [
  {
   "cell_type": "code",
   "execution_count": 20,
   "metadata": {
    "collapsed": true
   },
   "outputs": [],
   "source": [
    "from sklearn.model_selection import train_test_split\n",
    "from sklearn.linear_model import LinearRegression\n",
    "from sklearn.preprocessing import PolynomialFeatures\n",
    "from sklearn.pipeline import make_pipeline\n",
    "from sklearn.datasets import load_boston\n",
    "from sklearn.metrics import mean_squared_error\n",
    "\n",
    "import numpy as np\n",
    "import pandas as pd\n",
    "import matplotlib.pyplot as plt\n",
    "%matplotlib inline"
   ]
  },
  {
   "cell_type": "code",
   "execution_count": 21,
   "metadata": {},
   "outputs": [],
   "source": [
    "boston_data = load_boston()\n",
    "X = pd.DataFrame(boston_data.data, columns=boston_data.feature_names)\n",
    "y = pd.DataFrame(boston_data.target)\n",
    "\n",
    "X_train, X_test, y_train, y_test = train_test_split(X, y, test_size=0.2)"
   ]
  },
  {
   "cell_type": "code",
   "execution_count": 22,
   "metadata": {},
   "outputs": [],
   "source": [
    "def eval_metrics(model, X_train, y_train, y_predict_train, X_test, y_test, y_predict, eval_metrics_dict):\n",
    "    r2_train = model.score(X_train, y_train)\n",
    "    r2_test = model.score(X_test, y_test)\n",
    "    \n",
    "    mse_train = np.sqrt(mean_squared_error(y_train, y_predict_train))\n",
    "    mse_test = np.sqrt(mean_squared_error(y_test, y_predict))\n",
    "    \n",
    "    eval_metrics_dict['r2_train'].append(r2_train)\n",
    "    eval_metrics_dict['r2_test'].append(r2_test)\n",
    "    eval_metrics_dict['mse_train'].append(mse_train)\n",
    "    eval_metrics_dict['mse_test'].append(mse_test)\n",
    "    \n",
    "    return eval_metrics_dict"
   ]
  },
  {
   "cell_type": "code",
   "execution_count": 23,
   "metadata": {},
   "outputs": [],
   "source": [
    "def plot_eval_metrics(degrees_range, eval_metrics_dict):\n",
    "    \n",
    "    plt.subplot(121)\n",
    "    plt.tight_layout()\n",
    "    plt.plot(degrees_range, eval_metrics_dict['r2_train'], color='blue')\n",
    "    plt.plot(degrees_range, eval_metrics_dict['r2_test'], color='red')\n",
    "    plt.title('R^2')\n",
    "    \n",
    "    plt.subplot(122)\n",
    "    plt.tight_layout()\n",
    "    plt.plot(degrees_range, eval_metrics_dict['mse_train'], color='blue')\n",
    "    plt.plot(degrees_range, eval_metrics_dict['mse_test'], color='red')\n",
    "    plt.title('MSE')"
   ]
  },
  {
   "cell_type": "code",
   "execution_count": 24,
   "metadata": {},
   "outputs": [],
   "source": [
    "def linear_regression(max_degrees):\n",
    "    \n",
    "    lm  = LinearRegression()\n",
    "    \n",
    "    result = {\n",
    "        'r2_train': [],\n",
    "        'r2_test': [],\n",
    "        'mse_train': [],\n",
    "        'mse_test': [],\n",
    "    }\n",
    "    \n",
    "    for degree in range(1, max_degrees + 1):\n",
    "        model = make_pipeline(PolynomialFeatures(degree, interaction_only=False), lm)\n",
    "        model.fit(X_train, y_train)\n",
    "        \n",
    "        y_predict_train = model.predict(X_train)\n",
    "        y_predict = model.predict(X_test)\n",
    "        \n",
    "        result = eval_metrics(model, X_train, y_train, y_predict_train, X_test, y_test, y_predict, result)\n",
    "        \n",
    "    return result\n",
    "        "
   ]
  },
  {
   "cell_type": "code",
   "execution_count": 25,
   "metadata": {},
   "outputs": [
    {
     "data": {
      "image/png": "[encoded data removed]",
      "text/plain": [
       "<matplotlib.figure.Figure at 0x1192caa90>"
      ]
     },
     "metadata": {},
     "output_type": "display_data"
    }
   ],
   "source": [
    "max_degrees = 5\n",
    "degrees_range = np.arange(1, max_degrees + 1)\n",
    "\n",
    "eval_metrics_dict = linear_regression(max_degrees)\n",
    "plot_eval_metrics(degrees_range, eval_metrics_dict)"
   ]
  },
  {
   "cell_type": "code",
   "execution_count": null,
   "metadata": {},
   "outputs": [],
   "source": []
  }
 ],
 "metadata": {
  "kernelspec": {
   "display_name": "Python 2",
   "language": "python",
   "name": "python2"
  },
  "language_info": {
   "codemirror_mode": {
    "name": "ipython",
    "version": 2
   },
   "file_extension": ".py",
   "mimetype": "text/x-python",
   "name": "python",
   "nbconvert_exporter": "python",
   "pygments_lexer": "ipython2",
   "version": "2.7.6"
  }
 },
 "nbformat": 4,
 "nbformat_minor": 0
}
