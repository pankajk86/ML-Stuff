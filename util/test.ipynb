{
 "cells": [
  {
   "cell_type": "code",
   "execution_count": 5,
   "metadata": {
    "collapsed": true
   },
   "outputs": [],
   "source": [
    "import numpy as np"
   ]
  },
  {
   "cell_type": "code",
   "execution_count": 7,
   "metadata": {},
   "outputs": [
    {
     "data": {
      "text/plain": [
       "array([[[[0.86589685, 0.75372333, 0.93015184],\n         [0.59137699, 0.44690727, 0.52850128]],\n\n        [[0.20734365, 0.7611772 , 0.11953056],\n         [0.93324817, 0.55304288, 0.33966875]],\n\n        [[0.70323172, 0.51067081, 0.91494927],\n         [0.63115837, 0.57632926, 0.73780021]]],\n\n\n       [[[0.46763998, 0.29353689, 0.8056899 ],\n         [0.66707958, 0.71777654, 0.61862266]],\n\n        [[0.95881244, 0.1178572 , 0.60942978],\n         [0.97787304, 0.62107035, 0.0541298 ]],\n\n        [[0.76025469, 0.60738885, 0.16687166],\n         [0.07300342, 0.73252417, 0.85482429]]]])"
      ]
     },
     "execution_count": 7,
     "metadata": {},
     "output_type": "execute_result"
    }
   ],
   "source": [
    "a = np.random.rand(2,3,2,3)\n",
    "a"
   ]
  },
  {
   "cell_type": "code",
   "execution_count": 10,
   "metadata": {
    "collapsed": false
   },
   "outputs": [
    {
     "data": {
      "text/plain": [
       "array([[0.86589685, 0.75372333, 0.93015184, 0.59137699, 0.44690727,\n        0.52850128, 0.20734365, 0.7611772 , 0.11953056, 0.93324817,\n        0.55304288, 0.33966875, 0.70323172, 0.51067081, 0.91494927,\n        0.63115837, 0.57632926, 0.73780021],\n       [0.46763998, 0.29353689, 0.8056899 , 0.66707958, 0.71777654,\n        0.61862266, 0.95881244, 0.1178572 , 0.60942978, 0.97787304,\n        0.62107035, 0.0541298 , 0.76025469, 0.60738885, 0.16687166,\n        0.07300342, 0.73252417, 0.85482429]])"
      ]
     },
     "execution_count": 10,
     "metadata": {},
     "output_type": "execute_result"
    }
   ],
   "source": [
    "a.reshape(a.shape[0], -1)"
   ]
  },
  {
   "cell_type": "code",
   "execution_count": 2,
   "metadata": {},
   "outputs": [],
   "source": [
    "a = [[1,2], [4,5]]\n",
    "b = [[4,5], [7,8]]"
   ]
  },
  {
   "cell_type": "code",
   "execution_count": 7,
   "metadata": {},
   "outputs": [
    {
     "data": {
      "text/plain": [
       "array([[ 4, 10],\n       [28, 40]])"
      ]
     },
     "execution_count": 7,
     "metadata": {},
     "output_type": "execute_result"
    }
   ],
   "source": [
    "c = np.multiply(a, b)\n",
    "c"
   ]
  },
  {
   "cell_type": "code",
   "execution_count": 58,
   "metadata": {
    "collapsed": true
   },
   "outputs": [
    {
     "data": {
      "text/plain": [
       "2"
      ]
     },
     "execution_count": 58,
     "metadata": {},
     "output_type": "execute_result"
    }
   ],
   "source": [
    "box1 = (-2, 1, 4, 3)\n",
    "box2 = (1, 2, 3, 4)\n",
    "\n",
    "xx = abs(box1[0])\n",
    "xx"
   ]
  }
 ],
 "metadata": {
  "kernelspec": {
   "display_name": "Python 2",
   "language": "python",
   "name": "python2"
  },
  "language_info": {
   "codemirror_mode": {
    "name": "ipython",
    "version": 2
   },
   "file_extension": ".py",
   "mimetype": "text/x-python",
   "name": "python",
   "nbconvert_exporter": "python",
   "pygments_lexer": "ipython2",
   "version": "2.7.6"
  }
 },
 "nbformat": 4,
 "nbformat_minor": 0
}
